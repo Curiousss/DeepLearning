{
 "cells": [
  {
   "cell_type": "code",
   "execution_count": 97,
   "metadata": {
    "collapsed": true
   },
   "outputs": [],
   "source": [
    "import numpy as np"
   ]
  },
  {
   "cell_type": "code",
   "execution_count": 105,
   "metadata": {
    "collapsed": true
   },
   "outputs": [],
   "source": [
    "class Node (object):\n",
    "    def __init__(self, inbound_nodes=[]):\n",
    "        self.inbound_nodes = inbound_nodes\n",
    "        self.outbound_nodes = []\n",
    "        self.value = None\n",
    "        \n",
    "        for n in inbound_nodes:\n",
    "            n.outbound_nodes.append(self)\n",
    "        \n",
    "    def whoamI(self):\n",
    "        print(\"I am a Node\")\n",
    "        \n",
    "    def forward(self):\n",
    "        raise NotImplemented"
   ]
  },
  {
   "cell_type": "code",
   "execution_count": 106,
   "metadata": {
    "collapsed": true
   },
   "outputs": [],
   "source": [
    "class Input(Node):\n",
    "    def __init__(self):\n",
    "        Node.__init__(self)\n",
    "    def whoamI():\n",
    "        print(\"I am a Input Node\")    \n",
    "    def forward(self):\n",
    "        pass"
   ]
  },
  {
   "cell_type": "code",
   "execution_count": 116,
   "metadata": {
    "collapsed": true
   },
   "outputs": [],
   "source": [
    "class Linear(Node):\n",
    "    def __init__(self, inputs, weights, bias):\n",
    "        Node.__init__(self,[inputs, weights, bias])\n",
    "        \n",
    "    def whoamI(self):\n",
    "        print(\"I am a linear Node\")\n",
    "\n",
    "    def forward(self):\n",
    "        inputs = self.inbound_nodes[0].value\n",
    "        weights = self.inbound_nodes[1].value\n",
    "        bias = self.inbound_nodes[2]\n",
    "        self.value = np.dot(inputs, weights) + bias.value\n",
    "            "
   ]
  },
  {
   "cell_type": "code",
   "execution_count": 117,
   "metadata": {
    "collapsed": true
   },
   "outputs": [],
   "source": [
    "class Sigmoid(Node):\n",
    "    def __init__(self, node):\n",
    "        Node.__init__(self, [node])\n",
    "    \n",
    "    def _sigmoid(self, x):\n",
    "        return 1. / (1. + np.exp(-x))\n",
    "        \n",
    "    def forward(self):\n",
    "        self.inbound_nodes[0].whoamI()\n",
    "        input_value = self.inbound_nodes[0].value\n",
    "        self.value = self._sigmoid(input_value)"
   ]
  },
  {
   "cell_type": "code",
   "execution_count": 128,
   "metadata": {
    "collapsed": true
   },
   "outputs": [],
   "source": [
    "class MSE(Node):\n",
    "    def __init__(self, y, a):\n",
    "        Node.__init__(self, [y, a])\n",
    "        \n",
    "    def forward(self):\n",
    "        y = self.inbound_nodes[0].value.reshape(-1, 1)\n",
    "        a = self.inbound_nodes[1].value.reshape(-1, 1)\n",
    "        \n",
    "        diff = (y - a)\n",
    "        sq = diff ** 2\n",
    "        tot = sq.sum()\n",
    "        self.value = tot / len(y)"
   ]
  },
  {
   "cell_type": "code",
   "execution_count": 129,
   "metadata": {
    "collapsed": true
   },
   "outputs": [],
   "source": [
    "def topological_sort(feed_dict):\n",
    "    input_nodes = [n for n in feed_dict.keys()]\n",
    "    G = {}\n",
    "    nodes = [n for n in input_nodes]\n",
    "    while len(nodes) > 0:\n",
    "        n = nodes.pop(0)\n",
    "        if n not in G:\n",
    "            G[n] = {'in': set(), 'out': set()}\n",
    "        for m in n.outbound_nodes:\n",
    "            if m not in G:\n",
    "                G[m] = {'in': set(), 'out':set()}\n",
    "            G[n]['out'].add(m)\n",
    "            G[m]['in'].add(n)\n",
    "            nodes.append(m)\n",
    "    #print(\"G.elements\",G.items())\n",
    "    L = []\n",
    "    S=set(input_nodes)\n",
    "    while(len(S) > 0):\n",
    "        n = S.pop()\n",
    "        \n",
    "        if isinstance(n, Input):\n",
    "            n.value = feed_dict[n]\n",
    "        L.append(n)\n",
    "        for m in n.outbound_nodes:\n",
    "            G[n]['out'].remove(m)\n",
    "            G[m]['in'].remove(n)\n",
    "            if len(G[m]['in']) == 0:\n",
    "                S.add(m)\n",
    "    #print('L', L)\n",
    "    return L"
   ]
  },
  {
   "cell_type": "code",
   "execution_count": 130,
   "metadata": {
    "collapsed": true
   },
   "outputs": [],
   "source": [
    "def forward_pass(sorted_nodes, ouput_node = None ):\n",
    "    for n in sorted_nodes:\n",
    "        n.forward()\n",
    "    if ouput_node != None:\n",
    "        return ouput_node.value"
   ]
  },
  {
   "cell_type": "code",
   "execution_count": 133,
   "metadata": {
    "collapsed": true
   },
   "outputs": [],
   "source": [
    "def f(x):\n",
    "    return x**2 + 5\n",
    "\n",
    "def g(x):\n",
    "    return 2*x"
   ]
  },
  {
   "cell_type": "code",
   "execution_count": 134,
   "metadata": {
    "collapsed": true
   },
   "outputs": [],
   "source": [
    "def gradient_descent_update(x, gradx, lr):\n",
    "    return x - (gradx * lr)"
   ]
  },
  {
   "cell_type": "code",
   "execution_count": 135,
   "metadata": {},
   "outputs": [
    {
     "name": "stdout",
     "output_type": "stream",
     "text": [
      "Epoch 0: Cost = 3150630, x = 3550\n",
      "Epoch 1: Cost = 3138040.1025, x = 3542.9\n",
      "Epoch 2: Cost = 3125500.5142304106, x = 3535.8142000000003\n",
      "Epoch 3: Cost = 3113011.0341555458, x = 3528.7425716000002\n",
      "Epoch 4: Cost = 3100571.46204306, x = 3521.6850864568\n",
      "Epoch 5: Cost = 3088181.5984607358, x = 3514.6417162838866\n",
      "Epoch 6: Cost = 3075841.244773287, x = 3507.6124328513188\n",
      "Epoch 7: Cost = 3063550.2031391724, x = 3500.597207985616\n",
      "Epoch 8: Cost = 3051308.276507428, x = 3493.5960135696446\n",
      "Epoch 9: Cost = 3039115.268614504, x = 3486.608821542505\n",
      "Epoch 10: Cost = 3026970.983981121, x = 3479.6356038994204\n",
      "Epoch 11: Cost = 3014875.2279091324, x = 3472.6763326916216\n",
      "Epoch 12: Cost = 3002827.8064784077, x = 3465.7309800262383\n",
      "Epoch 13: Cost = 2990828.52654372, x = 3458.799518066186\n",
      "Epoch 14: Cost = 2978877.1957316515, x = 3451.8819190300537\n",
      "Epoch 15: Cost = 2966973.622437508, x = 3444.9781551919937\n",
      "Epoch 16: Cost = 2955117.615822247, x = 3438.0881988816095\n",
      "Epoch 17: Cost = 2943308.9858094216, x = 3431.2120224838463\n",
      "Epoch 18: Cost = 2931547.5430821273, x = 3424.3495984388787\n",
      "Epoch 19: Cost = 2919833.0990799717, x = 3417.500899242001\n",
      "Epoch 20: Cost = 2908165.4659960484, x = 3410.665897443517\n",
      "Epoch 21: Cost = 2896544.456773928, x = 3403.84456564863\n",
      "Epoch 22: Cost = 2884969.8851046595, x = 3397.036876517333\n",
      "Epoch 23: Cost = 2873441.565423781, x = 3390.242802764298\n",
      "Epoch 24: Cost = 2861959.3129083477, x = 3383.4623171587696\n",
      "Epoch 25: Cost = 2850522.943473966, x = 3376.695392524452\n",
      "Epoch 26: Cost = 2839132.273771844, x = 3369.942001739403\n",
      "Epoch 27: Cost = 2827787.1211858513, x = 3363.2021177359243\n",
      "Epoch 28: Cost = 2816487.3038295927, x = 3356.4757135004525\n",
      "Epoch 29: Cost = 2805232.6405434897, x = 3349.7627620734515\n",
      "Epoch 30: Cost = 2794022.950891878, x = 3343.0632365493047\n",
      "Epoch 31: Cost = 2782858.055160114, x = 3336.377110076206\n",
      "Epoch 32: Cost = 2771737.774351694, x = 3329.7043558560536\n",
      "Epoch 33: Cost = 2760661.9301853846, x = 3323.044947144341\n",
      "Epoch 34: Cost = 2749630.3450923637, x = 3316.3988572500525\n",
      "Epoch 35: Cost = 2738642.8422133746, x = 3309.7660595355524\n",
      "Epoch 36: Cost = 2727699.2453958895, x = 3303.146527416481\n",
      "Epoch 37: Cost = 2716799.379191288, x = 3296.5402343616483\n",
      "Epoch 38: Cost = 2705943.0688520395, x = 3289.947153892925\n",
      "Epoch 39: Cost = 2695130.140328907, x = 3283.3672595851394\n",
      "Epoch 40: Cost = 2684360.4202681524, x = 3276.800525065969\n",
      "Epoch 41: Cost = 2673633.736008761, x = 3270.246924015837\n",
      "Epoch 42: Cost = 2662949.91557967, x = 3263.7064301678056\n",
      "Epoch 43: Cost = 2652308.787697014, x = 3257.17901730747\n",
      "Epoch 44: Cost = 2641710.181761377, x = 3250.6646592728553\n",
      "Epoch 45: Cost = 2631153.9278550586, x = 3244.1633299543096\n",
      "Epoch 46: Cost = 2620639.8567393497, x = 3237.675003294401\n",
      "Epoch 47: Cost = 2610167.799851819, x = 3231.199653287812\n",
      "Epoch 48: Cost = 2599737.5893036113, x = 3224.7372539812363\n",
      "Epoch 49: Cost = 2589349.057876754, x = 3218.287779473274\n",
      "Epoch 50: Cost = 2579002.0390214785, x = 3211.8512039143275\n",
      "Epoch 51: Cost = 2568696.3668535487, x = 3205.4275015064986\n",
      "Epoch 52: Cost = 2558431.8761516022, x = 3199.016646503486\n",
      "Epoch 53: Cost = 2548208.4023545007, x = 3192.618613210479\n",
      "Epoch 54: Cost = 2538025.781558692, x = 3186.233375984058\n",
      "Epoch 55: Cost = 2527883.850515583, x = 3179.86090923209\n",
      "Epoch 56: Cost = 2517782.446628923, x = 3173.5011874136258\n",
      "Epoch 57: Cost = 2507721.407952194, x = 3167.1541850387985\n",
      "Epoch 58: Cost = 2497700.573186017, x = 3160.819876668721\n",
      "Epoch 59: Cost = 2487719.781675566, x = 3154.4982369153836\n",
      "Epoch 60: Cost = 2477778.8734079907, x = 3148.189240441553\n",
      "Epoch 61: Cost = 2467877.6890098522, x = 3141.89286196067\n",
      "Epoch 62: Cost = 2458016.069744569, x = 3135.6090762367485\n",
      "Epoch 63: Cost = 2448193.8575098696, x = 3129.337858084275\n",
      "Epoch 64: Cost = 2438410.89483526, x = 3123.0791823681066\n",
      "Epoch 65: Cost = 2428667.0248794984, x = 3116.83302400337\n",
      "Epoch 66: Cost = 2418962.0914280796, x = 3110.5993579553633\n",
      "Epoch 67: Cost = 2409295.938890733, x = 3104.3781592394525\n",
      "Epoch 68: Cost = 2399668.412298925, x = 3098.1694029209734\n",
      "Epoch 69: Cost = 2390079.3573033786, x = 3091.9730641151314\n",
      "Epoch 70: Cost = 2380528.6201715944, x = 3085.789117986901\n",
      "Epoch 71: Cost = 2371016.047785389, x = 3079.6175397509273\n",
      "Epoch 72: Cost = 2361541.4876384386, x = 3073.4583046714256\n",
      "Epoch 73: Cost = 2352104.787833835, x = 3067.3113880620826\n",
      "Epoch 74: Cost = 2342705.797081651, x = 3061.1767652859585\n",
      "Epoch 75: Cost = 2333344.3646965125, x = 3055.0544117553864\n",
      "Epoch 76: Cost = 2324020.340595185, x = 3048.9443029318754\n",
      "Epoch 77: Cost = 2314733.5752941663, x = 3042.8464143260117\n",
      "Epoch 78: Cost = 2305483.919907291, x = 3036.7607214973596\n",
      "Epoch 79: Cost = 2296271.2261433415, x = 3030.687200054365\n",
      "Epoch 80: Cost = 2287095.3463036725, x = 3024.625825654256\n",
      "Epoch 81: Cost = 2277956.133279843, x = 3018.5765740029474\n",
      "Epoch 82: Cost = 2268853.4405512563, x = 3012.5394208549415\n",
      "Epoch 83: Cost = 2259787.122182814, x = 3006.5143420132317\n",
      "Epoch 84: Cost = 2250757.0328225717, x = 3000.5013133292055\n",
      "Epoch 85: Cost = 2241763.0276994132, x = 2994.5003107025473\n",
      "Epoch 86: Cost = 2232804.9626207263, x = 2988.5113100811423\n",
      "Epoch 87: Cost = 2223882.693970094, x = 2982.53428746098\n",
      "Epoch 88: Cost = 2214996.0787049895, x = 2976.569218886058\n",
      "Epoch 89: Cost = 2206144.9743544846, x = 2970.616080448286\n",
      "Epoch 90: Cost = 2197329.239016964, x = 2964.6748482873895\n",
      "Epoch 91: Cost = 2188548.7313578525, x = 2958.745498590815\n",
      "Epoch 92: Cost = 2179803.3106073462, x = 2952.828007593633\n",
      "Epoch 93: Cost = 2171092.8365581594, x = 2946.922351578446\n",
      "Epoch 94: Cost = 2162417.1695632734, x = 2941.028506875289\n",
      "Epoch 95: Cost = 2153776.1705336985, x = 2935.1464498615387\n",
      "Epoch 96: Cost = 2145169.7009362457, x = 2929.2761569618156\n",
      "Epoch 97: Cost = 2136597.6227913047, x = 2923.417604647892\n",
      "Epoch 98: Cost = 2128059.7986706304, x = 2917.570769438596\n",
      "Epoch 99: Cost = 2119556.091695143, x = 2911.735627899719\n",
      "Epoch 100: Cost = 2111086.365532729, x = 2905.9121566439194\n"
     ]
    }
   ],
   "source": [
    "import random\n",
    "\n",
    "x = random.randint(0, 10000)\n",
    "lr = 0.001\n",
    "epochs = 100\n",
    "\n",
    "for i in range(epochs+1):\n",
    "    cost = f(x)\n",
    "    gradx = g(x)\n",
    "    print(\"Epoch {}: Cost = {}, x = {}\".format(i, cost, gradx))\n",
    "    x = gradient_descent_update(x, gradx, lr)"
   ]
  },
  {
   "cell_type": "code",
   "execution_count": 131,
   "metadata": {},
   "outputs": [
    {
     "name": "stdout",
     "output_type": "stream",
     "text": [
      "I am a linear Node\n",
      "output [[  1.23394576e-04   9.82013790e-01]\n",
      " [  1.23394576e-04   9.82013790e-01]]\n"
     ]
    }
   ],
   "source": [
    "X, W, b = Input(), Input(), Input()\n",
    "\n",
    "X_ = np.array([[-1., -2.], [-1, -2]])\n",
    "W_ = np.array([[2., -3], [2., -3]])\n",
    "b_ = np.array([-3., -5])\n",
    "\n",
    "li = Linear(X, W, b)\n",
    "sig = Sigmoid(li)\n",
    "\n",
    "feed_dict = {X:X_, W:W_, b:b_}\n",
    "\n",
    "graph = topological_sort(feed_dict)\n",
    "output = forward_pass(graph, sig)\n",
    "print(\"output\", output)"
   ]
  },
  {
   "cell_type": "code",
   "execution_count": 132,
   "metadata": {},
   "outputs": [
    {
     "name": "stdout",
     "output_type": "stream",
     "text": [
      "23.4166666667\n"
     ]
    }
   ],
   "source": [
    "y, a = Input(), Input()\n",
    "cost = MSE(y, a)\n",
    "\n",
    "y_ = np.array([1, 2, 3])\n",
    "a_ = np.array([4.5, 5, 10])\n",
    "\n",
    "feed_dict = {y: y_, a: a_}\n",
    "graph = topological_sort(feed_dict)\n",
    "# forward pass\n",
    "forward_pass(sorted_nodes=graph)\n",
    "\n",
    "\"\"\"\n",
    "Expected output\n",
    "\n",
    "23.4166666667\n",
    "\"\"\"\n",
    "print(cost.value)\n"
   ]
  },
  {
   "cell_type": "code",
   "execution_count": null,
   "metadata": {
    "collapsed": true
   },
   "outputs": [],
   "source": []
  },
  {
   "cell_type": "code",
   "execution_count": null,
   "metadata": {
    "collapsed": true
   },
   "outputs": [],
   "source": []
  }
 ],
 "metadata": {
  "kernelspec": {
   "display_name": "Python 3",
   "language": "python",
   "name": "python3"
  },
  "language_info": {
   "codemirror_mode": {
    "name": "ipython",
    "version": 3
   },
   "file_extension": ".py",
   "mimetype": "text/x-python",
   "name": "python",
   "nbconvert_exporter": "python",
   "pygments_lexer": "ipython3",
   "version": "3.5.2"
  }
 },
 "nbformat": 4,
 "nbformat_minor": 2
}
